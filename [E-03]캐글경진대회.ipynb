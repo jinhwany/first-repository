{
 "cells": [
  {
   "cell_type": "code",
   "execution_count": null,
   "id": "46f07a29",
   "metadata": {},
   "outputs": [],
   "source": []
  }
 ],{
 "cells": [
  {
   "cell_type": "markdown",
   "id": "10a26785",
   "metadata": {},
   "source": [
    "미리 제출하고 해보려고 했는데, 다른사람들의 자료를 봐도 직접 이해되는 부분이 적어서 과제를 당장 하기가 어려울 것 같습니다. 따로 더 시간을 내서 해야 될 것 같습니다.."
   ]
  }
 ],
 "metadata": {
  "kernelspec": {
   "display_name": "Python 3 (ipykernel)",
   "language": "python",
   "name": "python3"
  },
  "language_info": {
   "codemirror_mode": {
    "name": "ipython",
    "version": 3
   },
   "file_extension": ".py",
   "mimetype": "text/x-python",
   "name": "python",
   "nbconvert_exporter": "python",
   "pygments_lexer": "ipython3",
   "version": "3.9.7"
  }
 },
 "nbformat": 4,
 "nbformat_minor": 5
}

 "metadata": {
  "kernelspec": {
   "display_name": "Python 3 (ipykernel)",
   "language": "python",
   "name": "python3"
  },
  "language_info": {
   "codemirror_mode": {
    "name": "ipython",
    "version": 3
   },
   "file_extension": ".py",
   "mimetype": "text/x-python",
   "name": "python",
   "nbconvert_exporter": "python",
   "pygments_lexer": "ipython3",
   "version": "3.9.7"
  }
 },
 "nbformat": 4,
 "nbformat_minor": 5
}
