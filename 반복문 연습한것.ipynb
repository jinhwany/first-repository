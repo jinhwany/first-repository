{
 "cells": [
  {
   "cell_type": "markdown",
   "id": "b0716d05",
   "metadata": {},
   "source": [
    "N을 입력받은 뒤, 구구단 N단을 출력하는 프로그램을 작성하시오. 출력 형식에 맞춰서 출력하면 된다.\n",
    "\n",
    "입력\n",
    "첫째 줄에 N이 주어진다. N은 1보다 크거나 같고, 9보다 작거나 같다.\n",
    "\n",
    "출력\n",
    "출력형식과 같게 N*1부터 N*9까지 출력한다."
   ]
  },
  {
   "cell_type": "code",
   "execution_count": 12,
   "id": "73c461d7",
   "metadata": {},
   "outputs": [
    {
     "name": "stdout",
     "output_type": "stream",
     "text": [
      "2\n",
      "2 * 1 = 2\n",
      "2 * 2 = 4\n",
      "2 * 3 = 6\n",
      "2 * 4 = 8\n",
      "2 * 5 = 10\n",
      "2 * 6 = 12\n",
      "2 * 7 = 14\n",
      "2 * 8 = 16\n",
      "2 * 9 = 18\n"
     ]
    }
   ],
   "source": [
    "i = int(input())\n",
    "for j in range(1,10):\n",
    "    print(\"{} * {} = {}\".format(i, j, i*j))"
   ]
  },
  {
   "cell_type": "markdown",
   "id": "11ba4f94",
   "metadata": {},
   "source": [
    "print(type(j)) 타입확인\n",
    "기본적으로 int 는 문자열로만 받기때문에 수식으로 진행하기위해서는 int로 감싸줘야 된다."
   ]
  },
  {
   "cell_type": "markdown",
   "id": "90487d2b",
   "metadata": {},
   "source": [
    "문제\n",
    "두 정수 A와 B를 입력받은 다음, A+B를 출력하는 프로그램을 작성하시오.\n",
    "\n",
    "입력\n",
    "첫째 줄에 테스트 케이스의 개수 T가 주어진다.\n",
    "\n",
    "각 테스트 케이스는 한 줄로 이루어져 있으며, 각 줄에 A와 B가 주어진다. (0 < A, B < 10)"
   ]
  },
  {
   "cell_type": "code",
   "execution_count": null,
   "id": "baafee10",
   "metadata": {
    "scrolled": true
   },
   "outputs": [
    {
     "name": "stdout",
     "output_type": "stream",
     "text": [
      "5\n",
      "1 10\n",
      "11\n"
     ]
    }
   ],
   "source": [
    "t = int(input())  # 테스트 케이스 개수 t를 입력받음\n",
    "\n",
    "for _ in range(t):  # t 만큼 반복\n",
    "    a,b = map(int,input().split())\n",
    "    print(a+b)"
   ]
  },
  {
   "cell_type": "code",
   "execution_count": null,
   "id": "9db23ed9",
   "metadata": {},
   "outputs": [],
   "source": [
    "n = int(input())\n",
    "if 1 <= n and n <= 10000:\n",
    "    \n",
    "    j = 0\n",
    "    for i in range(0,n+1):\n",
    "        j += i\n",
    "    print(j)"
   ]
  }
 ],
 "metadata": {
  "kernelspec": {
   "display_name": "Python 3 (ipykernel)",
   "language": "python",
   "name": "python3"
  },
  "language_info": {
   "codemirror_mode": {
    "name": "ipython",
    "version": 3
   },
   "file_extension": ".py",
   "mimetype": "text/x-python",
   "name": "python",
   "nbconvert_exporter": "python",
   "pygments_lexer": "ipython3",
   "version": "3.9.12"
  }
 },
 "nbformat": 4,
 "nbformat_minor": 5
}
